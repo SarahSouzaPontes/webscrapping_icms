{
  "nbformat": 4,
  "nbformat_minor": 0,
  "metadata": {
    "colab": {
      "provenance": [],
      "authorship_tag": "ABX9TyNVevImMGZZDS+mQE4kMphc",
      "include_colab_link": true
    },
    "kernelspec": {
      "name": "python3",
      "display_name": "Python 3"
    },
    "language_info": {
      "name": "python"
    }
  },
  "cells": [
    {
      "cell_type": "markdown",
      "metadata": {
        "id": "view-in-github",
        "colab_type": "text"
      },
      "source": [
        "<a href=\"https://colab.research.google.com/github/SarahSouzaPontes/webscrapping_icms/blob/main/WebScrapping_ICMS.ipynb\" target=\"_parent\"><img src=\"https://colab.research.google.com/assets/colab-badge.svg\" alt=\"Open In Colab\"/></a>"
      ]
    },
    {
      "cell_type": "code",
      "source": [
        "! pip install requests\n",
        "! pip install bs4\n",
        "! pip install pandas"
      ],
      "metadata": {
        "colab": {
          "base_uri": "https://localhost:8080/"
        },
        "id": "QITY7XeYlivn",
        "outputId": "ba4ece79-7302-4906-eb5e-423c8974c3e7"
      },
      "execution_count": null,
      "outputs": [
        {
          "output_type": "stream",
          "name": "stdout",
          "text": [
            "Looking in indexes: https://pypi.org/simple, https://us-python.pkg.dev/colab-wheels/public/simple/\n",
            "Requirement already satisfied: requests in /usr/local/lib/python3.7/dist-packages (2.23.0)\n",
            "Requirement already satisfied: urllib3!=1.25.0,!=1.25.1,<1.26,>=1.21.1 in /usr/local/lib/python3.7/dist-packages (from requests) (1.24.3)\n",
            "Requirement already satisfied: chardet<4,>=3.0.2 in /usr/local/lib/python3.7/dist-packages (from requests) (3.0.4)\n",
            "Requirement already satisfied: certifi>=2017.4.17 in /usr/local/lib/python3.7/dist-packages (from requests) (2022.9.24)\n",
            "Requirement already satisfied: idna<3,>=2.5 in /usr/local/lib/python3.7/dist-packages (from requests) (2.10)\n",
            "Looking in indexes: https://pypi.org/simple, https://us-python.pkg.dev/colab-wheels/public/simple/\n",
            "Requirement already satisfied: bs4 in /usr/local/lib/python3.7/dist-packages (0.0.1)\n",
            "Requirement already satisfied: beautifulsoup4 in /usr/local/lib/python3.7/dist-packages (from bs4) (4.6.3)\n",
            "Looking in indexes: https://pypi.org/simple, https://us-python.pkg.dev/colab-wheels/public/simple/\n",
            "Requirement already satisfied: pandas in /usr/local/lib/python3.7/dist-packages (1.3.5)\n",
            "Requirement already satisfied: pytz>=2017.3 in /usr/local/lib/python3.7/dist-packages (from pandas) (2022.5)\n",
            "Requirement already satisfied: python-dateutil>=2.7.3 in /usr/local/lib/python3.7/dist-packages (from pandas) (2.8.2)\n",
            "Requirement already satisfied: numpy>=1.17.3 in /usr/local/lib/python3.7/dist-packages (from pandas) (1.21.6)\n",
            "Requirement already satisfied: six>=1.5 in /usr/local/lib/python3.7/dist-packages (from python-dateutil>=2.7.3->pandas) (1.15.0)\n"
          ]
        }
      ]
    },
    {
      "cell_type": "code",
      "source": [
        "import requests\n",
        "import pandas as pd\n",
        "from bs4 import BeautifulSoup"
      ],
      "metadata": {
        "id": "jnNAZlILmVfH"
      },
      "execution_count": null,
      "outputs": []
    },
    {
      "cell_type": "code",
      "source": [
        "# Caminho = 'https://www.taxgroup.com.br/intelligence/tabela-icms-atualizada/'\n",
        "req = requests.get('https://www.taxgroup.com.br/intelligence/tabela-icms-atualizada/')\n",
        "if req.status_code == 200:\n",
        "  print('ok!')\n",
        "  content = req.content\n",
        "  soup = BeautifulSoup(content, 'html.parser')\n",
        "  tabela = soup.find(name = 'table', id = 'tablepress-19')\n",
        "  tabela_str = str(tabela)\n",
        "  df= pd.read_html(tabela_str)[0]\n",
        "  display(df)\n",
        "else:\n",
        "  print('Não foi possível executar a requisição!')"
      ],
      "metadata": {
        "colab": {
          "base_uri": "https://localhost:8080/",
          "height": 441
        },
        "id": "NQxEe0TnllBH",
        "outputId": "525b0567-02bd-4698-ec32-9863cd2c45e0"
      },
      "execution_count": null,
      "outputs": [
        {
          "output_type": "stream",
          "name": "stdout",
          "text": [
            "ok!\n"
          ]
        },
        {
          "output_type": "display_data",
          "data": {
            "text/plain": [
              "   Alíquota FECP Alíquota Efetiva         NCM  \\\n",
              "0      18 %    -             18 %           -   \n",
              "1       7 %    -              7 %           -   \n",
              "2       7 %    -              7 %           -   \n",
              "3       7 %    -              7 %           -   \n",
              "4       7 %    -              7 %           -   \n",
              "..      ...  ...              ...         ...   \n",
              "73     18 %  2 %             20 %        2847   \n",
              "74     18 %  2 %             20 %      4818.2   \n",
              "75     12 %    -             12 %  8702.30.00   \n",
              "76     12 %    -             12 %  8702.40.90   \n",
              "77     12 %    -             12 %  8702.90.00   \n",
              "\n",
              "                                            Descrição  \n",
              "0   Operações com demais bens e mercadorias, para ...  \n",
              "1                                               Arroz  \n",
              "2                                              Feijão  \n",
              "3                                               Milho  \n",
              "4                                            Macarrão  \n",
              "..                                                ...  \n",
              "73  Cosméticos: Água oxigenada 10 a 40 volumes, in...  \n",
              "74                   Cosméticos: Lenços de desmaquiar  \n",
              "75  Veículos novos: outros veículos automóveis par...  \n",
              "76  Veículos novos: outros veículos automóveis par...  \n",
              "77  Veículos novos: outros veículos automóveis par...  \n",
              "\n",
              "[78 rows x 5 columns]"
            ],
            "text/html": [
              "\n",
              "  <div id=\"df-48b4e853-f084-4495-b760-d83d0eb6aa0b\">\n",
              "    <div class=\"colab-df-container\">\n",
              "      <div>\n",
              "<style scoped>\n",
              "    .dataframe tbody tr th:only-of-type {\n",
              "        vertical-align: middle;\n",
              "    }\n",
              "\n",
              "    .dataframe tbody tr th {\n",
              "        vertical-align: top;\n",
              "    }\n",
              "\n",
              "    .dataframe thead th {\n",
              "        text-align: right;\n",
              "    }\n",
              "</style>\n",
              "<table border=\"1\" class=\"dataframe\">\n",
              "  <thead>\n",
              "    <tr style=\"text-align: right;\">\n",
              "      <th></th>\n",
              "      <th>Alíquota</th>\n",
              "      <th>FECP</th>\n",
              "      <th>Alíquota Efetiva</th>\n",
              "      <th>NCM</th>\n",
              "      <th>Descrição</th>\n",
              "    </tr>\n",
              "  </thead>\n",
              "  <tbody>\n",
              "    <tr>\n",
              "      <th>0</th>\n",
              "      <td>18 %</td>\n",
              "      <td>-</td>\n",
              "      <td>18 %</td>\n",
              "      <td>-</td>\n",
              "      <td>Operações com demais bens e mercadorias, para ...</td>\n",
              "    </tr>\n",
              "    <tr>\n",
              "      <th>1</th>\n",
              "      <td>7 %</td>\n",
              "      <td>-</td>\n",
              "      <td>7 %</td>\n",
              "      <td>-</td>\n",
              "      <td>Arroz</td>\n",
              "    </tr>\n",
              "    <tr>\n",
              "      <th>2</th>\n",
              "      <td>7 %</td>\n",
              "      <td>-</td>\n",
              "      <td>7 %</td>\n",
              "      <td>-</td>\n",
              "      <td>Feijão</td>\n",
              "    </tr>\n",
              "    <tr>\n",
              "      <th>3</th>\n",
              "      <td>7 %</td>\n",
              "      <td>-</td>\n",
              "      <td>7 %</td>\n",
              "      <td>-</td>\n",
              "      <td>Milho</td>\n",
              "    </tr>\n",
              "    <tr>\n",
              "      <th>4</th>\n",
              "      <td>7 %</td>\n",
              "      <td>-</td>\n",
              "      <td>7 %</td>\n",
              "      <td>-</td>\n",
              "      <td>Macarrão</td>\n",
              "    </tr>\n",
              "    <tr>\n",
              "      <th>...</th>\n",
              "      <td>...</td>\n",
              "      <td>...</td>\n",
              "      <td>...</td>\n",
              "      <td>...</td>\n",
              "      <td>...</td>\n",
              "    </tr>\n",
              "    <tr>\n",
              "      <th>73</th>\n",
              "      <td>18 %</td>\n",
              "      <td>2 %</td>\n",
              "      <td>20 %</td>\n",
              "      <td>2847</td>\n",
              "      <td>Cosméticos: Água oxigenada 10 a 40 volumes, in...</td>\n",
              "    </tr>\n",
              "    <tr>\n",
              "      <th>74</th>\n",
              "      <td>18 %</td>\n",
              "      <td>2 %</td>\n",
              "      <td>20 %</td>\n",
              "      <td>4818.2</td>\n",
              "      <td>Cosméticos: Lenços de desmaquiar</td>\n",
              "    </tr>\n",
              "    <tr>\n",
              "      <th>75</th>\n",
              "      <td>12 %</td>\n",
              "      <td>-</td>\n",
              "      <td>12 %</td>\n",
              "      <td>8702.30.00</td>\n",
              "      <td>Veículos novos: outros veículos automóveis par...</td>\n",
              "    </tr>\n",
              "    <tr>\n",
              "      <th>76</th>\n",
              "      <td>12 %</td>\n",
              "      <td>-</td>\n",
              "      <td>12 %</td>\n",
              "      <td>8702.40.90</td>\n",
              "      <td>Veículos novos: outros veículos automóveis par...</td>\n",
              "    </tr>\n",
              "    <tr>\n",
              "      <th>77</th>\n",
              "      <td>12 %</td>\n",
              "      <td>-</td>\n",
              "      <td>12 %</td>\n",
              "      <td>8702.90.00</td>\n",
              "      <td>Veículos novos: outros veículos automóveis par...</td>\n",
              "    </tr>\n",
              "  </tbody>\n",
              "</table>\n",
              "<p>78 rows × 5 columns</p>\n",
              "</div>\n",
              "      <button class=\"colab-df-convert\" onclick=\"convertToInteractive('df-48b4e853-f084-4495-b760-d83d0eb6aa0b')\"\n",
              "              title=\"Convert this dataframe to an interactive table.\"\n",
              "              style=\"display:none;\">\n",
              "        \n",
              "  <svg xmlns=\"http://www.w3.org/2000/svg\" height=\"24px\"viewBox=\"0 0 24 24\"\n",
              "       width=\"24px\">\n",
              "    <path d=\"M0 0h24v24H0V0z\" fill=\"none\"/>\n",
              "    <path d=\"M18.56 5.44l.94 2.06.94-2.06 2.06-.94-2.06-.94-.94-2.06-.94 2.06-2.06.94zm-11 1L8.5 8.5l.94-2.06 2.06-.94-2.06-.94L8.5 2.5l-.94 2.06-2.06.94zm10 10l.94 2.06.94-2.06 2.06-.94-2.06-.94-.94-2.06-.94 2.06-2.06.94z\"/><path d=\"M17.41 7.96l-1.37-1.37c-.4-.4-.92-.59-1.43-.59-.52 0-1.04.2-1.43.59L10.3 9.45l-7.72 7.72c-.78.78-.78 2.05 0 2.83L4 21.41c.39.39.9.59 1.41.59.51 0 1.02-.2 1.41-.59l7.78-7.78 2.81-2.81c.8-.78.8-2.07 0-2.86zM5.41 20L4 18.59l7.72-7.72 1.47 1.35L5.41 20z\"/>\n",
              "  </svg>\n",
              "      </button>\n",
              "      \n",
              "  <style>\n",
              "    .colab-df-container {\n",
              "      display:flex;\n",
              "      flex-wrap:wrap;\n",
              "      gap: 12px;\n",
              "    }\n",
              "\n",
              "    .colab-df-convert {\n",
              "      background-color: #E8F0FE;\n",
              "      border: none;\n",
              "      border-radius: 50%;\n",
              "      cursor: pointer;\n",
              "      display: none;\n",
              "      fill: #1967D2;\n",
              "      height: 32px;\n",
              "      padding: 0 0 0 0;\n",
              "      width: 32px;\n",
              "    }\n",
              "\n",
              "    .colab-df-convert:hover {\n",
              "      background-color: #E2EBFA;\n",
              "      box-shadow: 0px 1px 2px rgba(60, 64, 67, 0.3), 0px 1px 3px 1px rgba(60, 64, 67, 0.15);\n",
              "      fill: #174EA6;\n",
              "    }\n",
              "\n",
              "    [theme=dark] .colab-df-convert {\n",
              "      background-color: #3B4455;\n",
              "      fill: #D2E3FC;\n",
              "    }\n",
              "\n",
              "    [theme=dark] .colab-df-convert:hover {\n",
              "      background-color: #434B5C;\n",
              "      box-shadow: 0px 1px 3px 1px rgba(0, 0, 0, 0.15);\n",
              "      filter: drop-shadow(0px 1px 2px rgba(0, 0, 0, 0.3));\n",
              "      fill: #FFFFFF;\n",
              "    }\n",
              "  </style>\n",
              "\n",
              "      <script>\n",
              "        const buttonEl =\n",
              "          document.querySelector('#df-48b4e853-f084-4495-b760-d83d0eb6aa0b button.colab-df-convert');\n",
              "        buttonEl.style.display =\n",
              "          google.colab.kernel.accessAllowed ? 'block' : 'none';\n",
              "\n",
              "        async function convertToInteractive(key) {\n",
              "          const element = document.querySelector('#df-48b4e853-f084-4495-b760-d83d0eb6aa0b');\n",
              "          const dataTable =\n",
              "            await google.colab.kernel.invokeFunction('convertToInteractive',\n",
              "                                                     [key], {});\n",
              "          if (!dataTable) return;\n",
              "\n",
              "          const docLinkHtml = 'Like what you see? Visit the ' +\n",
              "            '<a target=\"_blank\" href=https://colab.research.google.com/notebooks/data_table.ipynb>data table notebook</a>'\n",
              "            + ' to learn more about interactive tables.';\n",
              "          element.innerHTML = '';\n",
              "          dataTable['output_type'] = 'display_data';\n",
              "          await google.colab.output.renderOutput(dataTable, element);\n",
              "          const docLink = document.createElement('div');\n",
              "          docLink.innerHTML = docLinkHtml;\n",
              "          element.appendChild(docLink);\n",
              "        }\n",
              "      </script>\n",
              "    </div>\n",
              "  </div>\n",
              "  "
            ]
          },
          "metadata": {}
        }
      ]
    },
    {
      "cell_type": "code",
      "source": [
        "from google.colab import drive\n",
        "drive.mount('/content/drive')"
      ],
      "metadata": {
        "id": "HSz9NWDjzsRy",
        "colab": {
          "base_uri": "https://localhost:8080/"
        },
        "outputId": "ca4144f7-d143-47ee-f18a-5dbeb4b35189"
      },
      "execution_count": null,
      "outputs": [
        {
          "output_type": "stream",
          "name": "stdout",
          "text": [
            "Drive already mounted at /content/drive; to attempt to forcibly remount, call drive.mount(\"/content/drive\", force_remount=True).\n"
          ]
        }
      ]
    },
    {
      "cell_type": "code",
      "source": [
        "writer = pd.ExcelWriter('df.xlsx')\n",
        "df.to_excel(writer)\n",
        "writer.save()"
      ],
      "metadata": {
        "id": "VmExvsPqsGFu"
      },
      "execution_count": null,
      "outputs": []
    }
  ]
}